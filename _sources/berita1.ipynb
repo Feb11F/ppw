{
  "nbformat": 4,
  "nbformat_minor": 0,
  "metadata": {
    "colab": {
      "provenance": []
    },
    "kernelspec": {
      "name": "python3",
      "display_name": "Python 3"
    },
    "language_info": {
      "name": "python"
    }
  },
  "cells": [
    {
      "cell_type": "markdown",
      "source": [
        "# TUGAS 4"
      ],
      "metadata": {
        "id": "HU9KXAgcZyZW"
      }
    },
    {
      "cell_type": "code",
      "source": [
        "from nltk.tokenize import sent_tokenize\n",
        "from sklearn.feature_extraction.text import TfidfVectorizer\n",
        "from sklearn.metrics.pairwise import cosine_similarity\n",
        "from sklearn.naive_bayes import GaussianNB\n",
        "from sklearn.svm import SVC\n",
        "from sklearn.model_selection import train_test_split\n",
        "from sklearn.metrics import accuracy_score, classification_report, confusion_matrix\n",
        "import networkx as nx\n",
        "import seaborn as sns\n",
        "import matplotlib.pyplot as plt\n",
        "import warnings\n",
        "import pandas as pd\n",
        "import numpy as np\n",
        "import nltk\n",
        "import re\n",
        "import joblib\n",
        "\n",
        "nltk.download('stopwords')\n",
        "nltk.download('punkt')\n",
        "warnings.filterwarnings('ignore')"
      ],
      "metadata": {
        "colab": {
          "base_uri": "https://localhost:8080/"
        },
        "id": "6uAYTuAbMriA",
        "outputId": "d39eaf5a-10b0-4081-b971-93d066010233"
      },
      "execution_count": 2,
      "outputs": [
        {
          "output_type": "stream",
          "name": "stderr",
          "text": [
            "[nltk_data] Downloading package stopwords to /root/nltk_data...\n",
            "[nltk_data]   Unzipping corpora/stopwords.zip.\n",
            "[nltk_data] Downloading package punkt to /root/nltk_data...\n",
            "[nltk_data]   Unzipping tokenizers/punkt.zip.\n"
          ]
        }
      ]
    },
    {
      "cell_type": "code",
      "source": [
        "df = pd.read_csv('https://raw.githubusercontent.com/Feb11F/dataset/main/beritabantn.csv')\n",
        "df"
      ],
      "metadata": {
        "colab": {
          "base_uri": "https://localhost:8080/",
          "height": 676
        },
        "id": "UiWto-dfMyha",
        "outputId": "b88dd8c8-45bd-499f-a885-a67a8d1d0c04"
      },
      "execution_count": 3,
      "outputs": [
        {
          "output_type": "execute_result",
          "data": {
            "text/plain": [
              "                                                Judul  \\\n",
              "0   Rambu Lalu Lintas di Jalan Tol Dicuri, Pengelo...   \n",
              "1   Arab Saudi Jadi Tuan Rumah Piala Dunia 2034 Se...   \n",
              "2   107 Anggota Jaringan JI dan JAD Asal Banten Le...   \n",
              "3   Relawan Ganjar Mahfud Gelar Pengukuhan Gapura ...   \n",
              "4        Dua Warga Lebak Tewas Tertimbun Galian Tanah   \n",
              "5   Gibran Rakabuming Siap Hadapi Mahfud MD dan Ca...   \n",
              "6   1.333 Caleg DPRD Banten Resmi Masuk DCT Pemilu...   \n",
              "7   Kades Lontar Akui Pakai Duit Desa untuk Hibura...   \n",
              "8   Polisi Tahan Pengelola Korsel yang Tewaskan Bo...   \n",
              "9   Usai Video Mesum Viral, Mantan Guru di Carenan...   \n",
              "10  Grand Final AXIS Nation Cup 2023, 10 Tim Futsa...   \n",
              "11  Pengidap HIV Cabuli Bocah Anak Tetangga di Pan...   \n",
              "12  Yudi Budi Wibowo Serap Aspirasi Masyarakat Tan...   \n",
              "13  22 Club Bersaing Kerjurda Bola Voli Provinsi B...   \n",
              "14  Sudah Final dan Mengikat, Aturan Main Pilpres ...   \n",
              "15  Korupsi Rp988 Juta, Mantan Kades Lontar Ditunt...   \n",
              "16  Hadapi Panama, Pelatih Minta Pemain Timnas Ind...   \n",
              "17  Korupsi Rp 40 Miliar, Anggota Badan Pemeriksa ...   \n",
              "18  Vonis Mantan Kabid Dinsos Terdakwa Korupsi Dan...   \n",
              "19   Dorong Pemilu Damai, Polres Serang Gandeng Ulama   \n",
              "\n",
              "                                                  Isi Kategori  \n",
              "0   KAB. SERANG– Sejumlah rambu lalu lintas di Tol...    hukum  \n",
              "1   JAKARTA– Arab Saudi akan menjadi tuan rumah Pi...    Sport  \n",
              "2   SERANG– Sebanyak 107 orang mantan anggota Jema...    hukum  \n",
              "3   LEBAK –Relawan Ganjar Pranowo dan Mahfud MD me...  Politik  \n",
              "4   LEBAK– Diki (19) warga Kecamatan Sajira dan Ad...    hukum  \n",
              "5   SERANG– Calon wakil Presiden (Cawapres), Gibra...  Politik  \n",
              "6   SERANG– Sebanyak 1.333 calon anggota legislati...  Politik  \n",
              "7   SERANG– Sidang kasus korupsi dana Desa Lontar ...    hukum  \n",
              "8   SERANG– Pengelola korsel di Kampung Cileuweung...    hukum  \n",
              "9   KAB. SERANG– Usai kasusnya viral, seorang mant...    hukum  \n",
              "10  SERANG–  Turnamen futsal terbesar antar-SMA se...    Sport  \n",
              "11  PANDEGLANG– Satuan Reserse Kriminal (Satreskri...    hukum  \n",
              "12  TANGSEL– Anggota DPRD Provinsi Banten, Yudi Bu...  Politik  \n",
              "13  TANGERANG– Kota Tangerang dipercaya menjadi tu...    Sport  \n",
              "14  SERANG– Ketua Majelis Kehormatan Mahkamah Kons...  Politik  \n",
              "15  SERANG– Mantan Kepala Desa Lontar, Kecamatan T...    hukum  \n",
              "16  JAKARTA– Pemain Timnas Indonesia U-17 Welber J...    Sport  \n",
              "17  JAKARTA– Anggota III Badan Pemeriksa Keuangan ...    hukum  \n",
              "18  SERANG– Mantan Kepala Bidang Perlindungan, Jam...    hukum  \n",
              "19  KAB. SERANG– Dalam rangka menciptakan Pemilu 2...  Politik  "
            ],
            "text/html": [
              "\n",
              "  <div id=\"df-ecfa805d-e1a6-4f2b-8314-6c316896a754\" class=\"colab-df-container\">\n",
              "    <div>\n",
              "<style scoped>\n",
              "    .dataframe tbody tr th:only-of-type {\n",
              "        vertical-align: middle;\n",
              "    }\n",
              "\n",
              "    .dataframe tbody tr th {\n",
              "        vertical-align: top;\n",
              "    }\n",
              "\n",
              "    .dataframe thead th {\n",
              "        text-align: right;\n",
              "    }\n",
              "</style>\n",
              "<table border=\"1\" class=\"dataframe\">\n",
              "  <thead>\n",
              "    <tr style=\"text-align: right;\">\n",
              "      <th></th>\n",
              "      <th>Judul</th>\n",
              "      <th>Isi</th>\n",
              "      <th>Kategori</th>\n",
              "    </tr>\n",
              "  </thead>\n",
              "  <tbody>\n",
              "    <tr>\n",
              "      <th>0</th>\n",
              "      <td>Rambu Lalu Lintas di Jalan Tol Dicuri, Pengelo...</td>\n",
              "      <td>KAB. SERANG– Sejumlah rambu lalu lintas di Tol...</td>\n",
              "      <td>hukum</td>\n",
              "    </tr>\n",
              "    <tr>\n",
              "      <th>1</th>\n",
              "      <td>Arab Saudi Jadi Tuan Rumah Piala Dunia 2034 Se...</td>\n",
              "      <td>JAKARTA– Arab Saudi akan menjadi tuan rumah Pi...</td>\n",
              "      <td>Sport</td>\n",
              "    </tr>\n",
              "    <tr>\n",
              "      <th>2</th>\n",
              "      <td>107 Anggota Jaringan JI dan JAD Asal Banten Le...</td>\n",
              "      <td>SERANG– Sebanyak 107 orang mantan anggota Jema...</td>\n",
              "      <td>hukum</td>\n",
              "    </tr>\n",
              "    <tr>\n",
              "      <th>3</th>\n",
              "      <td>Relawan Ganjar Mahfud Gelar Pengukuhan Gapura ...</td>\n",
              "      <td>LEBAK –Relawan Ganjar Pranowo dan Mahfud MD me...</td>\n",
              "      <td>Politik</td>\n",
              "    </tr>\n",
              "    <tr>\n",
              "      <th>4</th>\n",
              "      <td>Dua Warga Lebak Tewas Tertimbun Galian Tanah</td>\n",
              "      <td>LEBAK– Diki (19) warga Kecamatan Sajira dan Ad...</td>\n",
              "      <td>hukum</td>\n",
              "    </tr>\n",
              "    <tr>\n",
              "      <th>5</th>\n",
              "      <td>Gibran Rakabuming Siap Hadapi Mahfud MD dan Ca...</td>\n",
              "      <td>SERANG– Calon wakil Presiden (Cawapres), Gibra...</td>\n",
              "      <td>Politik</td>\n",
              "    </tr>\n",
              "    <tr>\n",
              "      <th>6</th>\n",
              "      <td>1.333 Caleg DPRD Banten Resmi Masuk DCT Pemilu...</td>\n",
              "      <td>SERANG– Sebanyak 1.333 calon anggota legislati...</td>\n",
              "      <td>Politik</td>\n",
              "    </tr>\n",
              "    <tr>\n",
              "      <th>7</th>\n",
              "      <td>Kades Lontar Akui Pakai Duit Desa untuk Hibura...</td>\n",
              "      <td>SERANG– Sidang kasus korupsi dana Desa Lontar ...</td>\n",
              "      <td>hukum</td>\n",
              "    </tr>\n",
              "    <tr>\n",
              "      <th>8</th>\n",
              "      <td>Polisi Tahan Pengelola Korsel yang Tewaskan Bo...</td>\n",
              "      <td>SERANG– Pengelola korsel di Kampung Cileuweung...</td>\n",
              "      <td>hukum</td>\n",
              "    </tr>\n",
              "    <tr>\n",
              "      <th>9</th>\n",
              "      <td>Usai Video Mesum Viral, Mantan Guru di Carenan...</td>\n",
              "      <td>KAB. SERANG– Usai kasusnya viral, seorang mant...</td>\n",
              "      <td>hukum</td>\n",
              "    </tr>\n",
              "    <tr>\n",
              "      <th>10</th>\n",
              "      <td>Grand Final AXIS Nation Cup 2023, 10 Tim Futsa...</td>\n",
              "      <td>SERANG–  Turnamen futsal terbesar antar-SMA se...</td>\n",
              "      <td>Sport</td>\n",
              "    </tr>\n",
              "    <tr>\n",
              "      <th>11</th>\n",
              "      <td>Pengidap HIV Cabuli Bocah Anak Tetangga di Pan...</td>\n",
              "      <td>PANDEGLANG– Satuan Reserse Kriminal (Satreskri...</td>\n",
              "      <td>hukum</td>\n",
              "    </tr>\n",
              "    <tr>\n",
              "      <th>12</th>\n",
              "      <td>Yudi Budi Wibowo Serap Aspirasi Masyarakat Tan...</td>\n",
              "      <td>TANGSEL– Anggota DPRD Provinsi Banten, Yudi Bu...</td>\n",
              "      <td>Politik</td>\n",
              "    </tr>\n",
              "    <tr>\n",
              "      <th>13</th>\n",
              "      <td>22 Club Bersaing Kerjurda Bola Voli Provinsi B...</td>\n",
              "      <td>TANGERANG– Kota Tangerang dipercaya menjadi tu...</td>\n",
              "      <td>Sport</td>\n",
              "    </tr>\n",
              "    <tr>\n",
              "      <th>14</th>\n",
              "      <td>Sudah Final dan Mengikat, Aturan Main Pilpres ...</td>\n",
              "      <td>SERANG– Ketua Majelis Kehormatan Mahkamah Kons...</td>\n",
              "      <td>Politik</td>\n",
              "    </tr>\n",
              "    <tr>\n",
              "      <th>15</th>\n",
              "      <td>Korupsi Rp988 Juta, Mantan Kades Lontar Ditunt...</td>\n",
              "      <td>SERANG– Mantan Kepala Desa Lontar, Kecamatan T...</td>\n",
              "      <td>hukum</td>\n",
              "    </tr>\n",
              "    <tr>\n",
              "      <th>16</th>\n",
              "      <td>Hadapi Panama, Pelatih Minta Pemain Timnas Ind...</td>\n",
              "      <td>JAKARTA– Pemain Timnas Indonesia U-17 Welber J...</td>\n",
              "      <td>Sport</td>\n",
              "    </tr>\n",
              "    <tr>\n",
              "      <th>17</th>\n",
              "      <td>Korupsi Rp 40 Miliar, Anggota Badan Pemeriksa ...</td>\n",
              "      <td>JAKARTA– Anggota III Badan Pemeriksa Keuangan ...</td>\n",
              "      <td>hukum</td>\n",
              "    </tr>\n",
              "    <tr>\n",
              "      <th>18</th>\n",
              "      <td>Vonis Mantan Kabid Dinsos Terdakwa Korupsi Dan...</td>\n",
              "      <td>SERANG– Mantan Kepala Bidang Perlindungan, Jam...</td>\n",
              "      <td>hukum</td>\n",
              "    </tr>\n",
              "    <tr>\n",
              "      <th>19</th>\n",
              "      <td>Dorong Pemilu Damai, Polres Serang Gandeng Ulama</td>\n",
              "      <td>KAB. SERANG– Dalam rangka menciptakan Pemilu 2...</td>\n",
              "      <td>Politik</td>\n",
              "    </tr>\n",
              "  </tbody>\n",
              "</table>\n",
              "</div>\n",
              "    <div class=\"colab-df-buttons\">\n",
              "\n",
              "  <div class=\"colab-df-container\">\n",
              "    <button class=\"colab-df-convert\" onclick=\"convertToInteractive('df-ecfa805d-e1a6-4f2b-8314-6c316896a754')\"\n",
              "            title=\"Convert this dataframe to an interactive table.\"\n",
              "            style=\"display:none;\">\n",
              "\n",
              "  <svg xmlns=\"http://www.w3.org/2000/svg\" height=\"24px\" viewBox=\"0 -960 960 960\">\n",
              "    <path d=\"M120-120v-720h720v720H120Zm60-500h600v-160H180v160Zm220 220h160v-160H400v160Zm0 220h160v-160H400v160ZM180-400h160v-160H180v160Zm440 0h160v-160H620v160ZM180-180h160v-160H180v160Zm440 0h160v-160H620v160Z\"/>\n",
              "  </svg>\n",
              "    </button>\n",
              "\n",
              "  <style>\n",
              "    .colab-df-container {\n",
              "      display:flex;\n",
              "      gap: 12px;\n",
              "    }\n",
              "\n",
              "    .colab-df-convert {\n",
              "      background-color: #E8F0FE;\n",
              "      border: none;\n",
              "      border-radius: 50%;\n",
              "      cursor: pointer;\n",
              "      display: none;\n",
              "      fill: #1967D2;\n",
              "      height: 32px;\n",
              "      padding: 0 0 0 0;\n",
              "      width: 32px;\n",
              "    }\n",
              "\n",
              "    .colab-df-convert:hover {\n",
              "      background-color: #E2EBFA;\n",
              "      box-shadow: 0px 1px 2px rgba(60, 64, 67, 0.3), 0px 1px 3px 1px rgba(60, 64, 67, 0.15);\n",
              "      fill: #174EA6;\n",
              "    }\n",
              "\n",
              "    .colab-df-buttons div {\n",
              "      margin-bottom: 4px;\n",
              "    }\n",
              "\n",
              "    [theme=dark] .colab-df-convert {\n",
              "      background-color: #3B4455;\n",
              "      fill: #D2E3FC;\n",
              "    }\n",
              "\n",
              "    [theme=dark] .colab-df-convert:hover {\n",
              "      background-color: #434B5C;\n",
              "      box-shadow: 0px 1px 3px 1px rgba(0, 0, 0, 0.15);\n",
              "      filter: drop-shadow(0px 1px 2px rgba(0, 0, 0, 0.3));\n",
              "      fill: #FFFFFF;\n",
              "    }\n",
              "  </style>\n",
              "\n",
              "    <script>\n",
              "      const buttonEl =\n",
              "        document.querySelector('#df-ecfa805d-e1a6-4f2b-8314-6c316896a754 button.colab-df-convert');\n",
              "      buttonEl.style.display =\n",
              "        google.colab.kernel.accessAllowed ? 'block' : 'none';\n",
              "\n",
              "      async function convertToInteractive(key) {\n",
              "        const element = document.querySelector('#df-ecfa805d-e1a6-4f2b-8314-6c316896a754');\n",
              "        const dataTable =\n",
              "          await google.colab.kernel.invokeFunction('convertToInteractive',\n",
              "                                                    [key], {});\n",
              "        if (!dataTable) return;\n",
              "\n",
              "        const docLinkHtml = 'Like what you see? Visit the ' +\n",
              "          '<a target=\"_blank\" href=https://colab.research.google.com/notebooks/data_table.ipynb>data table notebook</a>'\n",
              "          + ' to learn more about interactive tables.';\n",
              "        element.innerHTML = '';\n",
              "        dataTable['output_type'] = 'display_data';\n",
              "        await google.colab.output.renderOutput(dataTable, element);\n",
              "        const docLink = document.createElement('div');\n",
              "        docLink.innerHTML = docLinkHtml;\n",
              "        element.appendChild(docLink);\n",
              "      }\n",
              "    </script>\n",
              "  </div>\n",
              "\n",
              "\n",
              "<div id=\"df-8bbeab0b-6772-48e4-b563-543d12f86d10\">\n",
              "  <button class=\"colab-df-quickchart\" onclick=\"quickchart('df-8bbeab0b-6772-48e4-b563-543d12f86d10')\"\n",
              "            title=\"Suggest charts\"\n",
              "            style=\"display:none;\">\n",
              "\n",
              "<svg xmlns=\"http://www.w3.org/2000/svg\" height=\"24px\"viewBox=\"0 0 24 24\"\n",
              "     width=\"24px\">\n",
              "    <g>\n",
              "        <path d=\"M19 3H5c-1.1 0-2 .9-2 2v14c0 1.1.9 2 2 2h14c1.1 0 2-.9 2-2V5c0-1.1-.9-2-2-2zM9 17H7v-7h2v7zm4 0h-2V7h2v10zm4 0h-2v-4h2v4z\"/>\n",
              "    </g>\n",
              "</svg>\n",
              "  </button>\n",
              "\n",
              "<style>\n",
              "  .colab-df-quickchart {\n",
              "      --bg-color: #E8F0FE;\n",
              "      --fill-color: #1967D2;\n",
              "      --hover-bg-color: #E2EBFA;\n",
              "      --hover-fill-color: #174EA6;\n",
              "      --disabled-fill-color: #AAA;\n",
              "      --disabled-bg-color: #DDD;\n",
              "  }\n",
              "\n",
              "  [theme=dark] .colab-df-quickchart {\n",
              "      --bg-color: #3B4455;\n",
              "      --fill-color: #D2E3FC;\n",
              "      --hover-bg-color: #434B5C;\n",
              "      --hover-fill-color: #FFFFFF;\n",
              "      --disabled-bg-color: #3B4455;\n",
              "      --disabled-fill-color: #666;\n",
              "  }\n",
              "\n",
              "  .colab-df-quickchart {\n",
              "    background-color: var(--bg-color);\n",
              "    border: none;\n",
              "    border-radius: 50%;\n",
              "    cursor: pointer;\n",
              "    display: none;\n",
              "    fill: var(--fill-color);\n",
              "    height: 32px;\n",
              "    padding: 0;\n",
              "    width: 32px;\n",
              "  }\n",
              "\n",
              "  .colab-df-quickchart:hover {\n",
              "    background-color: var(--hover-bg-color);\n",
              "    box-shadow: 0 1px 2px rgba(60, 64, 67, 0.3), 0 1px 3px 1px rgba(60, 64, 67, 0.15);\n",
              "    fill: var(--button-hover-fill-color);\n",
              "  }\n",
              "\n",
              "  .colab-df-quickchart-complete:disabled,\n",
              "  .colab-df-quickchart-complete:disabled:hover {\n",
              "    background-color: var(--disabled-bg-color);\n",
              "    fill: var(--disabled-fill-color);\n",
              "    box-shadow: none;\n",
              "  }\n",
              "\n",
              "  .colab-df-spinner {\n",
              "    border: 2px solid var(--fill-color);\n",
              "    border-color: transparent;\n",
              "    border-bottom-color: var(--fill-color);\n",
              "    animation:\n",
              "      spin 1s steps(1) infinite;\n",
              "  }\n",
              "\n",
              "  @keyframes spin {\n",
              "    0% {\n",
              "      border-color: transparent;\n",
              "      border-bottom-color: var(--fill-color);\n",
              "      border-left-color: var(--fill-color);\n",
              "    }\n",
              "    20% {\n",
              "      border-color: transparent;\n",
              "      border-left-color: var(--fill-color);\n",
              "      border-top-color: var(--fill-color);\n",
              "    }\n",
              "    30% {\n",
              "      border-color: transparent;\n",
              "      border-left-color: var(--fill-color);\n",
              "      border-top-color: var(--fill-color);\n",
              "      border-right-color: var(--fill-color);\n",
              "    }\n",
              "    40% {\n",
              "      border-color: transparent;\n",
              "      border-right-color: var(--fill-color);\n",
              "      border-top-color: var(--fill-color);\n",
              "    }\n",
              "    60% {\n",
              "      border-color: transparent;\n",
              "      border-right-color: var(--fill-color);\n",
              "    }\n",
              "    80% {\n",
              "      border-color: transparent;\n",
              "      border-right-color: var(--fill-color);\n",
              "      border-bottom-color: var(--fill-color);\n",
              "    }\n",
              "    90% {\n",
              "      border-color: transparent;\n",
              "      border-bottom-color: var(--fill-color);\n",
              "    }\n",
              "  }\n",
              "</style>\n",
              "\n",
              "  <script>\n",
              "    async function quickchart(key) {\n",
              "      const quickchartButtonEl =\n",
              "        document.querySelector('#' + key + ' button');\n",
              "      quickchartButtonEl.disabled = true;  // To prevent multiple clicks.\n",
              "      quickchartButtonEl.classList.add('colab-df-spinner');\n",
              "      try {\n",
              "        const charts = await google.colab.kernel.invokeFunction(\n",
              "            'suggestCharts', [key], {});\n",
              "      } catch (error) {\n",
              "        console.error('Error during call to suggestCharts:', error);\n",
              "      }\n",
              "      quickchartButtonEl.classList.remove('colab-df-spinner');\n",
              "      quickchartButtonEl.classList.add('colab-df-quickchart-complete');\n",
              "    }\n",
              "    (() => {\n",
              "      let quickchartButtonEl =\n",
              "        document.querySelector('#df-8bbeab0b-6772-48e4-b563-543d12f86d10 button');\n",
              "      quickchartButtonEl.style.display =\n",
              "        google.colab.kernel.accessAllowed ? 'block' : 'none';\n",
              "    })();\n",
              "  </script>\n",
              "</div>\n",
              "    </div>\n",
              "  </div>\n"
            ]
          },
          "metadata": {},
          "execution_count": 3
        }
      ]
    },
    {
      "cell_type": "code",
      "execution_count": 4,
      "metadata": {
        "colab": {
          "base_uri": "https://localhost:8080/"
        },
        "id": "dCtmmYP1MmbC",
        "outputId": "c57bfa77-017a-4d1f-daa1-5e82a6c4cf77"
      },
      "outputs": [
        {
          "output_type": "execute_result",
          "data": {
            "text/plain": [
              "Judul       0\n",
              "Isi         0\n",
              "Kategori    0\n",
              "dtype: int64"
            ]
          },
          "metadata": {},
          "execution_count": 4
        }
      ],
      "source": [
        "df = df.dropna()\n",
        "df.isnull().sum()"
      ]
    },
    {
      "cell_type": "code",
      "source": [
        "def cleaning(text):\n",
        "  text = re.sub(r'[^\\w\\s.?!,]', '', text).strip()\n",
        "  return text\n",
        "\n",
        "df['Cleaning'] = df['Isi'].apply(cleaning)\n",
        "df['Cleaning']"
      ],
      "metadata": {
        "colab": {
          "base_uri": "https://localhost:8080/"
        },
        "id": "vgFBatdnM8eg",
        "outputId": "b21452a0-dbff-4b21-c426-ab468cc96acd"
      },
      "execution_count": 7,
      "outputs": [
        {
          "output_type": "execute_result",
          "data": {
            "text/plain": [
              "0     KAB. SERANG Sejumlah rambu lalu lintas di Tol ...\n",
              "1     JAKARTA Arab Saudi akan menjadi tuan rumah Pia...\n",
              "2     SERANG Sebanyak 107 orang mantan anggota Jemaa...\n",
              "3     LEBAK Relawan Ganjar Pranowo dan Mahfud MD men...\n",
              "4     LEBAK Diki 19 warga Kecamatan Sajira dan Adend...\n",
              "5     SERANG Calon wakil Presiden Cawapres, Gibran R...\n",
              "6     SERANG Sebanyak 1.333 calon anggota legislatif...\n",
              "7     SERANG Sidang kasus korupsi dana Desa Lontar K...\n",
              "8     SERANG Pengelola korsel di Kampung Cileuweung,...\n",
              "9     KAB. SERANG Usai kasusnya viral, seorang manta...\n",
              "10    SERANG  Turnamen futsal terbesar antarSMA seIn...\n",
              "11    PANDEGLANG Satuan Reserse Kriminal Satreskrim ...\n",
              "12    TANGSEL Anggota DPRD Provinsi Banten, Yudi Bud...\n",
              "13    TANGERANG Kota Tangerang dipercaya menjadi tua...\n",
              "14    SERANG Ketua Majelis Kehormatan Mahkamah Konst...\n",
              "15    SERANG Mantan Kepala Desa Lontar, Kecamatan Ti...\n",
              "16    JAKARTA Pemain Timnas Indonesia U17 Welber Jar...\n",
              "17    JAKARTA Anggota III Badan Pemeriksa Keuangan B...\n",
              "18    SERANG Mantan Kepala Bidang Perlindungan, Jami...\n",
              "19    KAB. SERANG Dalam rangka menciptakan Pemilu 20...\n",
              "Name: Cleaning, dtype: object"
            ]
          },
          "metadata": {},
          "execution_count": 7
        }
      ]
    },
    {
      "cell_type": "code",
      "source": [
        "def tokenizer(text):\n",
        "  text = text.lower()\n",
        "  return sent_tokenize(text)\n",
        "\n",
        "df['Tokenizing'] = df['Cleaning'].apply(tokenizer)\n",
        "df['Tokenizing']"
      ],
      "metadata": {
        "colab": {
          "base_uri": "https://localhost:8080/"
        },
        "id": "kpMqNHDQNEV9",
        "outputId": "daebcd6b-799f-497f-d0e9-3e17d0a517d5"
      },
      "execution_count": 8,
      "outputs": [
        {
          "output_type": "execute_result",
          "data": {
            "text/plain": [
              "0     [kab., serang sejumlah rambu lalu lintas di to...\n",
              "1     [jakarta arab saudi akan menjadi tuan rumah pi...\n",
              "2     [serang sebanyak 107 orang mantan anggota jema...\n",
              "3     [lebak relawan ganjar pranowo dan mahfud md me...\n",
              "4     [lebak diki 19 warga kecamatan sajira dan aden...\n",
              "5     [serang calon wakil presiden cawapres, gibran ...\n",
              "6     [serang sebanyak 1.333 calon anggota legislati...\n",
              "7     [serang sidang kasus korupsi dana desa lontar ...\n",
              "8     [serang pengelola korsel di kampung cileuweung...\n",
              "9     [kab., serang usai kasusnya viral, seorang man...\n",
              "10    [serang  turnamen futsal terbesar antarsma sei...\n",
              "11    [pandeglang satuan reserse kriminal satreskrim...\n",
              "12    [tangsel anggota dprd provinsi banten, yudi bu...\n",
              "13    [tangerang kota tangerang dipercaya menjadi tu...\n",
              "14    [serang ketua majelis kehormatan mahkamah kons...\n",
              "15    [serang mantan kepala desa lontar, kecamatan t...\n",
              "16    [jakarta pemain timnas indonesia u17 welber ja...\n",
              "17    [jakarta anggota iii badan pemeriksa keuangan ...\n",
              "18    [serang mantan kepala bidang perlindungan, jam...\n",
              "19    [kab., serang dalam rangka menciptakan pemilu ...\n",
              "Name: Tokenizing, dtype: object"
            ]
          },
          "metadata": {},
          "execution_count": 8
        }
      ]
    },
    {
      "cell_type": "code",
      "source": [
        "def graph_cosine_sim(x, threshold = 0.11):\n",
        "  # TFIDF\n",
        "  vectorizer = TfidfVectorizer()\n",
        "  tfidf = vectorizer.fit_transform(x)\n",
        "  cos_sim = cosine_similarity(tfidf)\n",
        "  G = nx.Graph()\n",
        "\n",
        "  # Mengisi nilai similarity antara kalimat ke dalam edges (Garis Penghubung)\n",
        "  for i in range(len(x)):\n",
        "    for j in range(i+1, len(x)):\n",
        "      sim = cos_sim[i][j]\n",
        "      if sim > threshold:\n",
        "        G.add_edge(i, j, weight=sim)\n",
        "\n",
        "  return G"
      ],
      "metadata": {
        "id": "1CnPkxxJNHnR"
      },
      "execution_count": 9,
      "outputs": []
    },
    {
      "cell_type": "code",
      "source": [
        "def plot_graph(G, figsize=(35, 30), node_size=700, node_color='skyblue'):\n",
        "  # Menggambar graf dengan canvas yang diperbesar\n",
        "  pos = nx.spring_layout(G)  # Menentukan posisi simpul\n",
        "  labels = nx.get_edge_attributes(G, 'weight')\n",
        "\n",
        "  # Menentukan ukuran canvas\n",
        "  plt.figure(figsize=(35, 30))\n",
        "\n",
        "  # Menggambar graf dengan ukuran canvas yang diperbesar\n",
        "  nx.draw(G, pos, with_labels=True, node_size=700, node_color='skyblue')\n",
        "  nx.draw_networkx_edge_labels(G, pos, edge_labels=labels, font_color='red')\n",
        "  plt.show()"
      ],
      "metadata": {
        "id": "apkUSJMzNKEd"
      },
      "execution_count": 10,
      "outputs": []
    },
    {
      "cell_type": "code",
      "source": [
        "def summarization(x, k = 4, index=1, threshold=0.11, show_centrality=False):\n",
        "  # Memasukkan Nilai Cosine Similirity ke dalam Graph\n",
        "  G = graph_cosine_sim(x, threshold)\n",
        "\n",
        "  # Menghitung nilai dari closeness centrality\n",
        "  centrality = nx.closeness_centrality(G)\n",
        "  if show_centrality:\n",
        "    print(f\"Nilai Closeness Centrality Dokumen Ke - {index} : {centrality}\")\n",
        "\n",
        "  # Menyusun Kalimat berdasarkan nilai Closeness Centrality tertinggi dan lebih dari treshold\n",
        "  centrality = dict(sorted(centrality.items(), key=lambda item : item[1], reverse=True))\n",
        "\n",
        "  summary_sentences = []\n",
        "  for i, centr in enumerate(centrality.items()):\n",
        "    if i < k:\n",
        "      summary_sentences.append(x[centr[0]])\n",
        "\n",
        "  return (' '.join(summary_sentences), G)"
      ],
      "metadata": {
        "id": "uAdilElONMP3"
      },
      "execution_count": 11,
      "outputs": []
    },
    {
      "cell_type": "code",
      "source": [
        "summary, G = summarization(df[\"Tokenizing\"].iloc[:1][0], k = 5, show_centrality=True, threshold=0.2)"
      ],
      "metadata": {
        "colab": {
          "base_uri": "https://localhost:8080/"
        },
        "id": "djV2pMrJNTvk",
        "outputId": "9b744fe1-4457-4ea1-b5a3-b3a1d80c51e7"
      },
      "execution_count": 12,
      "outputs": [
        {
          "output_type": "stream",
          "name": "stdout",
          "text": [
            "Nilai Closeness Centrality Dokumen Ke - 1 : {1: 0.6666666666666666, 3: 1.0, 2: 0.6666666666666666}\n"
          ]
        }
      ]
    },
    {
      "cell_type": "code",
      "source": [
        "plot_graph(G)"
      ],
      "metadata": {
        "colab": {
          "base_uri": "https://localhost:8080/",
          "height": 1000
        },
        "id": "_mXI5lSZNQOQ",
        "outputId": "1909fc2d-ff5f-43ed-9260-e36fa578675b"
      },
      "execution_count": 13,
      "outputs": [
        {
          "output_type": "display_data",
          "data": {
            "text/plain": [
              "<Figure size 3500x3000 with 1 Axes>"
            ],
            "image/png": "[encoded data removed]"
          },
          "metadata": {}
        }
      ]
    },
    {
      "cell_type": "code",
      "source": [
        "df[\"Summary\"] = df.apply(lambda row : summarization(row['Tokenizing'], index=row.name+1, k=7, show_centrality=True)[0], axis=1)"
      ],
      "metadata": {
        "colab": {
          "base_uri": "https://localhost:8080/"
        },
        "id": "iwXUtWBuNatY",
        "outputId": "53b1da84-ed73-463c-db49-f70aed4995be"
      },
      "execution_count": 14,
      "outputs": [
        {
          "output_type": "stream",
          "name": "stdout",
          "text": [
            "Nilai Closeness Centrality Dokumen Ke - 1 : {1: 0.75, 3: 0.75, 5: 0.5, 2: 0.5}\n",
            "Nilai Closeness Centrality Dokumen Ke - 2 : {0: 1.0, 1: 1.0, 2: 1.0}\n",
            "Nilai Closeness Centrality Dokumen Ke - 3 : {0: 1.0, 1: 1.0}\n",
            "Nilai Closeness Centrality Dokumen Ke - 4 : {}\n",
            "Nilai Closeness Centrality Dokumen Ke - 5 : {0: 0.8333333333333334, 1: 0.5, 3: 0.7142857142857143, 4: 0.8333333333333334, 5: 0.625, 2: 0.5555555555555556}\n",
            "Nilai Closeness Centrality Dokumen Ke - 6 : {0: 0.2, 1: 0.2, 2: 0.3, 3: 0.44999999999999996, 4: 0.44999999999999996, 5: 0.3}\n",
            "Nilai Closeness Centrality Dokumen Ke - 7 : {0: 0.7272727272727273, 1: 0.8, 2: 0.8, 4: 0.8, 5: 0.8, 6: 1.0, 3: 0.7272727272727273, 7: 0.5714285714285714, 8: 0.5714285714285714}\n",
            "Nilai Closeness Centrality Dokumen Ke - 8 : {0: 0.8333333333333334, 1: 0.5555555555555556, 2: 0.7142857142857143, 3: 0.7142857142857143, 5: 0.5, 4: 0.45454545454545453}\n",
            "Nilai Closeness Centrality Dokumen Ke - 9 : {1: 0.42857142857142855, 8: 0.6666666666666666, 2: 0.5454545454545454, 3: 0.8571428571428571, 7: 0.6666666666666666, 5: 0.6, 6: 0.75}\n",
            "Nilai Closeness Centrality Dokumen Ke - 10 : {2: 0.5833333333333334, 6: 0.7777777777777778, 8: 0.6363636363636364, 9: 0.7, 3: 0.4117647058823529, 4: 0.6363636363636364, 5: 0.5833333333333334, 7: 0.5833333333333334}\n",
            "Nilai Closeness Centrality Dokumen Ke - 11 : {0: 0.5, 4: 0.75, 6: 0.6, 8: 0.47368421052631576, 1: 0.45, 2: 0.6, 3: 0.47368421052631576, 5: 0.6428571428571429, 7: 0.45, 9: 0.32142857142857145}\n",
            "Nilai Closeness Centrality Dokumen Ke - 12 : {0: 0.625, 1: 0.5555555555555556, 2: 0.7142857142857143, 3: 0.4166666666666667, 5: 0.5555555555555556, 4: 0.38461538461538464}\n",
            "Nilai Closeness Centrality Dokumen Ke - 13 : {0: 1.0, 1: 0.75, 2: 1.0, 3: 0.75}\n",
            "Nilai Closeness Centrality Dokumen Ke - 14 : {0: 0.6, 1: 0.75, 6: 0.6666666666666666, 2: 0.75, 3: 0.75, 4: 0.8571428571428571, 5: 0.75}\n",
            "Nilai Closeness Centrality Dokumen Ke - 15 : {0: 1.0, 1: 1.0, 2: 1.0, 3: 1.0}\n",
            "Nilai Closeness Centrality Dokumen Ke - 16 : {0: 1.0, 1: 0.6, 2: 0.75, 3: 0.75}\n",
            "Nilai Closeness Centrality Dokumen Ke - 17 : {0: 0.5555555555555556, 3: 0.8333333333333334, 5: 0.7142857142857143, 1: 0.7142857142857143, 2: 0.45454545454545453, 4: 0.5}\n",
            "Nilai Closeness Centrality Dokumen Ke - 18 : {0: 0.5, 5: 0.7142857142857143, 6: 0.5555555555555556, 8: 0.5, 1: 0.6666666666666666, 2: 0.45454545454545453, 3: 0.5263157894736842, 7: 0.5882352941176471, 9: 0.625, 4: 0.5, 10: 0.4}\n",
            "Nilai Closeness Centrality Dokumen Ke - 19 : {0: 0.6666666666666666, 3: 0.75, 4: 1.0, 6: 0.8571428571428571, 1: 0.6666666666666666, 5: 0.75, 2: 0.5454545454545454}\n",
            "Nilai Closeness Centrality Dokumen Ke - 20 : {1: 1.0, 2: 1.0}\n"
          ]
        }
      ]
    },
    {
      "cell_type": "code",
      "source": [
        "new_df = df[[\"Summary\", \"Kategori\"]]\n",
        "new_df"
      ],
      "metadata": {
        "colab": {
          "base_uri": "https://localhost:8080/",
          "height": 676
        },
        "id": "AhD4oO4WNh5l",
        "outputId": "2d077355-6142-430c-efee-8d0679ba5a42"
      },
      "execution_count": 15,
      "outputs": [
        {
          "output_type": "execute_result",
          "data": {
            "text/plain": [
              "                                              Summary Kategori\n",
              "0   serang sejumlah rambu lalu lintas di tol tange...    hukum\n",
              "1   jakarta arab saudi akan menjadi tuan rumah pia...    Sport\n",
              "2   serang sebanyak 107 orang mantan anggota jemaa...    hukum\n",
              "3                                                      Politik\n",
              "4   lebak diki 19 warga kecamatan sajira dan adend...    hukum\n",
              "5   dia menyerahkan keputusannya kepada pdip.ya it...  Politik\n",
              "6   berkurangnya calon tersebut ada pada 3 partai ...  Politik\n",
              "7   serang sidang kasus korupsi dana desa lontar k...    hukum\n",
              "8   diduga, korban tersetrum karena memegang pagar...    hukum\n",
              "9   ketika itu dia sudah bukan lagi menjadi guru m...    hukum\n",
              "10  harapan kami melalui axis nation cup ini bisa ...    Sport\n",
              "11  masih ditahan di polres pandeglang karena belu...    hukum\n",
              "12  tangsel anggota dprd provinsi banten, yudi bud...  Politik\n",
              "13  dari kejurda ini diharapkan muncul atletatlet ...    Sport\n",
              "14  serang ketua majelis kehormatan mahkamah konst...  Politik\n",
              "15  serang mantan kepala desa lontar, kecamatan ti...    hukum\n",
              "16  komunikasi juga harus bagus saat masuk lapanga...    Sport\n",
              "17  lalu, ada mitsubishi outlander sport minibus 2...    hukum\n",
              "18  sedangkan rp304 juta sisanya ia tilap untuk ke...    hukum\n",
              "19  serang dalam rangka menciptakan pemilu 2024 ya...  Politik"
            ],
            "text/html": [
              "\n",
              "  <div id=\"df-ae8fcb46-9850-4275-a1d8-53b5937cff30\" class=\"colab-df-container\">\n",
              "    <div>\n",
              "<style scoped>\n",
              "    .dataframe tbody tr th:only-of-type {\n",
              "        vertical-align: middle;\n",
              "    }\n",
              "\n",
              "    .dataframe tbody tr th {\n",
              "        vertical-align: top;\n",
              "    }\n",
              "\n",
              "    .dataframe thead th {\n",
              "        text-align: right;\n",
              "    }\n",
              "</style>\n",
              "<table border=\"1\" class=\"dataframe\">\n",
              "  <thead>\n",
              "    <tr style=\"text-align: right;\">\n",
              "      <th></th>\n",
              "      <th>Summary</th>\n",
              "      <th>Kategori</th>\n",
              "    </tr>\n",
              "  </thead>\n",
              "  <tbody>\n",
              "    <tr>\n",
              "      <th>0</th>\n",
              "      <td>serang sejumlah rambu lalu lintas di tol tange...</td>\n",
              "      <td>hukum</td>\n",
              "    </tr>\n",
              "    <tr>\n",
              "      <th>1</th>\n",
              "      <td>jakarta arab saudi akan menjadi tuan rumah pia...</td>\n",
              "      <td>Sport</td>\n",
              "    </tr>\n",
              "    <tr>\n",
              "      <th>2</th>\n",
              "      <td>serang sebanyak 107 orang mantan anggota jemaa...</td>\n",
              "      <td>hukum</td>\n",
              "    </tr>\n",
              "    <tr>\n",
              "      <th>3</th>\n",
              "      <td></td>\n",
              "      <td>Politik</td>\n",
              "    </tr>\n",
              "    <tr>\n",
              "      <th>4</th>\n",
              "      <td>lebak diki 19 warga kecamatan sajira dan adend...</td>\n",
              "      <td>hukum</td>\n",
              "    </tr>\n",
              "    <tr>\n",
              "      <th>5</th>\n",
              "      <td>dia menyerahkan keputusannya kepada pdip.ya it...</td>\n",
              "      <td>Politik</td>\n",
              "    </tr>\n",
              "    <tr>\n",
              "      <th>6</th>\n",
              "      <td>berkurangnya calon tersebut ada pada 3 partai ...</td>\n",
              "      <td>Politik</td>\n",
              "    </tr>\n",
              "    <tr>\n",
              "      <th>7</th>\n",
              "      <td>serang sidang kasus korupsi dana desa lontar k...</td>\n",
              "      <td>hukum</td>\n",
              "    </tr>\n",
              "    <tr>\n",
              "      <th>8</th>\n",
              "      <td>diduga, korban tersetrum karena memegang pagar...</td>\n",
              "      <td>hukum</td>\n",
              "    </tr>\n",
              "    <tr>\n",
              "      <th>9</th>\n",
              "      <td>ketika itu dia sudah bukan lagi menjadi guru m...</td>\n",
              "      <td>hukum</td>\n",
              "    </tr>\n",
              "    <tr>\n",
              "      <th>10</th>\n",
              "      <td>harapan kami melalui axis nation cup ini bisa ...</td>\n",
              "      <td>Sport</td>\n",
              "    </tr>\n",
              "    <tr>\n",
              "      <th>11</th>\n",
              "      <td>masih ditahan di polres pandeglang karena belu...</td>\n",
              "      <td>hukum</td>\n",
              "    </tr>\n",
              "    <tr>\n",
              "      <th>12</th>\n",
              "      <td>tangsel anggota dprd provinsi banten, yudi bud...</td>\n",
              "      <td>Politik</td>\n",
              "    </tr>\n",
              "    <tr>\n",
              "      <th>13</th>\n",
              "      <td>dari kejurda ini diharapkan muncul atletatlet ...</td>\n",
              "      <td>Sport</td>\n",
              "    </tr>\n",
              "    <tr>\n",
              "      <th>14</th>\n",
              "      <td>serang ketua majelis kehormatan mahkamah konst...</td>\n",
              "      <td>Politik</td>\n",
              "    </tr>\n",
              "    <tr>\n",
              "      <th>15</th>\n",
              "      <td>serang mantan kepala desa lontar, kecamatan ti...</td>\n",
              "      <td>hukum</td>\n",
              "    </tr>\n",
              "    <tr>\n",
              "      <th>16</th>\n",
              "      <td>komunikasi juga harus bagus saat masuk lapanga...</td>\n",
              "      <td>Sport</td>\n",
              "    </tr>\n",
              "    <tr>\n",
              "      <th>17</th>\n",
              "      <td>lalu, ada mitsubishi outlander sport minibus 2...</td>\n",
              "      <td>hukum</td>\n",
              "    </tr>\n",
              "    <tr>\n",
              "      <th>18</th>\n",
              "      <td>sedangkan rp304 juta sisanya ia tilap untuk ke...</td>\n",
              "      <td>hukum</td>\n",
              "    </tr>\n",
              "    <tr>\n",
              "      <th>19</th>\n",
              "      <td>serang dalam rangka menciptakan pemilu 2024 ya...</td>\n",
              "      <td>Politik</td>\n",
              "    </tr>\n",
              "  </tbody>\n",
              "</table>\n",
              "</div>\n",
              "    <div class=\"colab-df-buttons\">\n",
              "\n",
              "  <div class=\"colab-df-container\">\n",
              "    <button class=\"colab-df-convert\" onclick=\"convertToInteractive('df-ae8fcb46-9850-4275-a1d8-53b5937cff30')\"\n",
              "            title=\"Convert this dataframe to an interactive table.\"\n",
              "            style=\"display:none;\">\n",
              "\n",
              "  <svg xmlns=\"http://www.w3.org/2000/svg\" height=\"24px\" viewBox=\"0 -960 960 960\">\n",
              "    <path d=\"M120-120v-720h720v720H120Zm60-500h600v-160H180v160Zm220 220h160v-160H400v160Zm0 220h160v-160H400v160ZM180-400h160v-160H180v160Zm440 0h160v-160H620v160ZM180-180h160v-160H180v160Zm440 0h160v-160H620v160Z\"/>\n",
              "  </svg>\n",
              "    </button>\n",
              "\n",
              "  <style>\n",
              "    .colab-df-container {\n",
              "      display:flex;\n",
              "      gap: 12px;\n",
              "    }\n",
              "\n",
              "    .colab-df-convert {\n",
              "      background-color: #E8F0FE;\n",
              "      border: none;\n",
              "      border-radius: 50%;\n",
              "      cursor: pointer;\n",
              "      display: none;\n",
              "      fill: #1967D2;\n",
              "      height: 32px;\n",
              "      padding: 0 0 0 0;\n",
              "      width: 32px;\n",
              "    }\n",
              "\n",
              "    .colab-df-convert:hover {\n",
              "      background-color: #E2EBFA;\n",
              "      box-shadow: 0px 1px 2px rgba(60, 64, 67, 0.3), 0px 1px 3px 1px rgba(60, 64, 67, 0.15);\n",
              "      fill: #174EA6;\n",
              "    }\n",
              "\n",
              "    .colab-df-buttons div {\n",
              "      margin-bottom: 4px;\n",
              "    }\n",
              "\n",
              "    [theme=dark] .colab-df-convert {\n",
              "      background-color: #3B4455;\n",
              "      fill: #D2E3FC;\n",
              "    }\n",
              "\n",
              "    [theme=dark] .colab-df-convert:hover {\n",
              "      background-color: #434B5C;\n",
              "      box-shadow: 0px 1px 3px 1px rgba(0, 0, 0, 0.15);\n",
              "      filter: drop-shadow(0px 1px 2px rgba(0, 0, 0, 0.3));\n",
              "      fill: #FFFFFF;\n",
              "    }\n",
              "  </style>\n",
              "\n",
              "    <script>\n",
              "      const buttonEl =\n",
              "        document.querySelector('#df-ae8fcb46-9850-4275-a1d8-53b5937cff30 button.colab-df-convert');\n",
              "      buttonEl.style.display =\n",
              "        google.colab.kernel.accessAllowed ? 'block' : 'none';\n",
              "\n",
              "      async function convertToInteractive(key) {\n",
              "        const element = document.querySelector('#df-ae8fcb46-9850-4275-a1d8-53b5937cff30');\n",
              "        const dataTable =\n",
              "          await google.colab.kernel.invokeFunction('convertToInteractive',\n",
              "                                                    [key], {});\n",
              "        if (!dataTable) return;\n",
              "\n",
              "        const docLinkHtml = 'Like what you see? Visit the ' +\n",
              "          '<a target=\"_blank\" href=https://colab.research.google.com/notebooks/data_table.ipynb>data table notebook</a>'\n",
              "          + ' to learn more about interactive tables.';\n",
              "        element.innerHTML = '';\n",
              "        dataTable['output_type'] = 'display_data';\n",
              "        await google.colab.output.renderOutput(dataTable, element);\n",
              "        const docLink = document.createElement('div');\n",
              "        docLink.innerHTML = docLinkHtml;\n",
              "        element.appendChild(docLink);\n",
              "      }\n",
              "    </script>\n",
              "  </div>\n",
              "\n",
              "\n",
              "<div id=\"df-c2223594-b71a-4243-8a02-fd3b9dec5788\">\n",
              "  <button class=\"colab-df-quickchart\" onclick=\"quickchart('df-c2223594-b71a-4243-8a02-fd3b9dec5788')\"\n",
              "            title=\"Suggest charts\"\n",
              "            style=\"display:none;\">\n",
              "\n",
              "<svg xmlns=\"http://www.w3.org/2000/svg\" height=\"24px\"viewBox=\"0 0 24 24\"\n",
              "     width=\"24px\">\n",
              "    <g>\n",
              "        <path d=\"M19 3H5c-1.1 0-2 .9-2 2v14c0 1.1.9 2 2 2h14c1.1 0 2-.9 2-2V5c0-1.1-.9-2-2-2zM9 17H7v-7h2v7zm4 0h-2V7h2v10zm4 0h-2v-4h2v4z\"/>\n",
              "    </g>\n",
              "</svg>\n",
              "  </button>\n",
              "\n",
              "<style>\n",
              "  .colab-df-quickchart {\n",
              "      --bg-color: #E8F0FE;\n",
              "      --fill-color: #1967D2;\n",
              "      --hover-bg-color: #E2EBFA;\n",
              "      --hover-fill-color: #174EA6;\n",
              "      --disabled-fill-color: #AAA;\n",
              "      --disabled-bg-color: #DDD;\n",
              "  }\n",
              "\n",
              "  [theme=dark] .colab-df-quickchart {\n",
              "      --bg-color: #3B4455;\n",
              "      --fill-color: #D2E3FC;\n",
              "      --hover-bg-color: #434B5C;\n",
              "      --hover-fill-color: #FFFFFF;\n",
              "      --disabled-bg-color: #3B4455;\n",
              "      --disabled-fill-color: #666;\n",
              "  }\n",
              "\n",
              "  .colab-df-quickchart {\n",
              "    background-color: var(--bg-color);\n",
              "    border: none;\n",
              "    border-radius: 50%;\n",
              "    cursor: pointer;\n",
              "    display: none;\n",
              "    fill: var(--fill-color);\n",
              "    height: 32px;\n",
              "    padding: 0;\n",
              "    width: 32px;\n",
              "  }\n",
              "\n",
              "  .colab-df-quickchart:hover {\n",
              "    background-color: var(--hover-bg-color);\n",
              "    box-shadow: 0 1px 2px rgba(60, 64, 67, 0.3), 0 1px 3px 1px rgba(60, 64, 67, 0.15);\n",
              "    fill: var(--button-hover-fill-color);\n",
              "  }\n",
              "\n",
              "  .colab-df-quickchart-complete:disabled,\n",
              "  .colab-df-quickchart-complete:disabled:hover {\n",
              "    background-color: var(--disabled-bg-color);\n",
              "    fill: var(--disabled-fill-color);\n",
              "    box-shadow: none;\n",
              "  }\n",
              "\n",
              "  .colab-df-spinner {\n",
              "    border: 2px solid var(--fill-color);\n",
              "    border-color: transparent;\n",
              "    border-bottom-color: var(--fill-color);\n",
              "    animation:\n",
              "      spin 1s steps(1) infinite;\n",
              "  }\n",
              "\n",
              "  @keyframes spin {\n",
              "    0% {\n",
              "      border-color: transparent;\n",
              "      border-bottom-color: var(--fill-color);\n",
              "      border-left-color: var(--fill-color);\n",
              "    }\n",
              "    20% {\n",
              "      border-color: transparent;\n",
              "      border-left-color: var(--fill-color);\n",
              "      border-top-color: var(--fill-color);\n",
              "    }\n",
              "    30% {\n",
              "      border-color: transparent;\n",
              "      border-left-color: var(--fill-color);\n",
              "      border-top-color: var(--fill-color);\n",
              "      border-right-color: var(--fill-color);\n",
              "    }\n",
              "    40% {\n",
              "      border-color: transparent;\n",
              "      border-right-color: var(--fill-color);\n",
              "      border-top-color: var(--fill-color);\n",
              "    }\n",
              "    60% {\n",
              "      border-color: transparent;\n",
              "      border-right-color: var(--fill-color);\n",
              "    }\n",
              "    80% {\n",
              "      border-color: transparent;\n",
              "      border-right-color: var(--fill-color);\n",
              "      border-bottom-color: var(--fill-color);\n",
              "    }\n",
              "    90% {\n",
              "      border-color: transparent;\n",
              "      border-bottom-color: var(--fill-color);\n",
              "    }\n",
              "  }\n",
              "</style>\n",
              "\n",
              "  <script>\n",
              "    async function quickchart(key) {\n",
              "      const quickchartButtonEl =\n",
              "        document.querySelector('#' + key + ' button');\n",
              "      quickchartButtonEl.disabled = true;  // To prevent multiple clicks.\n",
              "      quickchartButtonEl.classList.add('colab-df-spinner');\n",
              "      try {\n",
              "        const charts = await google.colab.kernel.invokeFunction(\n",
              "            'suggestCharts', [key], {});\n",
              "      } catch (error) {\n",
              "        console.error('Error during call to suggestCharts:', error);\n",
              "      }\n",
              "      quickchartButtonEl.classList.remove('colab-df-spinner');\n",
              "      quickchartButtonEl.classList.add('colab-df-quickchart-complete');\n",
              "    }\n",
              "    (() => {\n",
              "      let quickchartButtonEl =\n",
              "        document.querySelector('#df-c2223594-b71a-4243-8a02-fd3b9dec5788 button');\n",
              "      quickchartButtonEl.style.display =\n",
              "        google.colab.kernel.accessAllowed ? 'block' : 'none';\n",
              "    })();\n",
              "  </script>\n",
              "</div>\n",
              "    </div>\n",
              "  </div>\n"
            ]
          },
          "metadata": {},
          "execution_count": 15
        }
      ]
    },
    {
      "cell_type": "code",
      "source": [
        "new_df.to_csv('Data Berita Hasil Ringkasan.csv')"
      ],
      "metadata": {
        "id": "UP7rossBayWS"
      },
      "execution_count": 16,
      "outputs": []
    },
    {
      "cell_type": "code",
      "source": [
        "df[\"Summary\"][0]"
      ],
      "metadata": {
        "colab": {
          "base_uri": "https://localhost:8080/",
          "height": 91
        },
        "id": "xNR02qWGa4Tk",
        "outputId": "e326392a-24da-45a4-ce84-0710a8daf993"
      },
      "execution_count": 17,
      "outputs": [
        {
          "output_type": "execute_result",
          "data": {
            "text/plain": [
              "'serang sejumlah rambu lalu lintas di tol tangerang  merak dan serang  panimbang tepatnya di kabupaten serang, banten hilang. namun juga berpotensi menyebabkan kecelakaan pada pengguna jalan.kalau ramburambu ini kaitannya dihilangkan ini menjadi potensi kecelakaan bagi pengguna jalan, ujarnya pada konferensi pers terkait penangkapan 6 pencuri rambu tol di mapolres serang, selasa 24102023.baca jugakomplotan pencuri rambu lalu lintas di jalan tol tangerang  merak dan serpan dibekuk polisisamsul menjelaskan para pengguna jalan bisa mengalami kebingungan lantaran petunjuk arah atau peringatan di jalan tol tidak ada.pertama pengguna jalan kehilangan arah apakah ini tadinya kecepatannya berapa atau dilarang parkir atau petunjukpetunjuk lainnya sehingga pembuat jalan agak kehilangan arah kebingungan, tambahnya.sebelumnya diwartakan, enam pencuri rambu lalu lintas di jalan tol tangerang  merak dan serang  panimbang tepatnya di wilayah kabupaten serang, banten ditangkap polisi. hasil barang curian berupa rambu lalu lintas itu dijualnya kepada lapak barangbarang bekas dengan harga rp4 juta.setelah dilakukan penggeledahan, ditemukan barang bukti yang ada di dalam mobil truk dan beberapa orang tersangka diamankan, ujar kapolres serang akbp wiwin setiawan.kini keenam pelaku harus meringkuk di balik jeruji besi dan dikenakan pasal 363 kuhpidana ancaman penjara maksimal 7 tahun penjara.nindrared hilangnya atribut jalan itu lantaran dicuri oleh sekelompok orang.papan rambu yang dicuri oleh komplotan tersebut diantaranya rambu peringatan kepada para pengguna jalan untuk berhatihati sebab adanya pekerjaan di jalan tol hingga tanda larangan mendahului dari sebelah kiri.kepala divisi operasi dan pemeliharaan pt astra infra toll road, samsul mengatakan imbas dari pencurian ramburambu tersebut tak hanya menyebabkan kerugian bagi pengelola jalan tol.'"
            ],
            "application/vnd.google.colaboratory.intrinsic+json": {
              "type": "string"
            }
          },
          "metadata": {},
          "execution_count": 17
        }
      ]
    },
    {
      "cell_type": "code",
      "source": [
        "vectorizer_summary = TfidfVectorizer()\n",
        "X_summary = vectorizer_summary.fit_transform(df[\"Summary\"]).toarray()\n",
        "y = df[\"Kategori\"]"
      ],
      "metadata": {
        "id": "OZ_GlNera8Im"
      },
      "execution_count": 19,
      "outputs": []
    },
    {
      "cell_type": "code",
      "source": [
        "X_train_summary, X_test_summary, y_train_summary, y_test_summary = train_test_split(X_summary, y, test_size=0.3, random_state=42)"
      ],
      "metadata": {
        "id": "ogVmZNxcbBIU"
      },
      "execution_count": 20,
      "outputs": []
    },
    {
      "cell_type": "code",
      "source": [
        "# Inisialisasi model Naive Bayes Gaussian\n",
        "gnb_summary = GaussianNB()\n",
        "\n",
        "# Melatih model menggunakan data latih\n",
        "gnb_summary.fit(X_train_summary, y_train_summary)\n",
        "\n",
        "# Membuat prediksi pada data uji\n",
        "y_pred_gnb_summary = gnb_summary.predict(X_test_summary)"
      ],
      "metadata": {
        "id": "-8xIdt_BbD-S"
      },
      "execution_count": 22,
      "outputs": []
    },
    {
      "cell_type": "code",
      "source": [
        "# Mengukur kinerja model dengan menghitung akurasi atau metrik lain yang relevan\n",
        "accuracy = accuracy_score(y_test_summary, y_pred_gnb_summary)\n",
        "print(f'Akurasi: {accuracy}')"
      ],
      "metadata": {
        "colab": {
          "base_uri": "https://localhost:8080/"
        },
        "id": "fEPHcMP_bIr4",
        "outputId": "a3fd2ef3-37ab-4805-ce9b-3ae969c1d39d"
      },
      "execution_count": 23,
      "outputs": [
        {
          "output_type": "stream",
          "name": "stdout",
          "text": [
            "Akurasi: 1.0\n"
          ]
        }
      ]
    },
    {
      "cell_type": "code",
      "source": [
        "report = classification_report(y_test_summary, y_pred_gnb_summary)\n",
        "print(f'Report Klasifikasi:\\n{report}')"
      ],
      "metadata": {
        "colab": {
          "base_uri": "https://localhost:8080/"
        },
        "id": "SFVSXf7vcV4R",
        "outputId": "238b42c1-6ac3-4e59-bf45-fc81c6b86594"
      },
      "execution_count": 24,
      "outputs": [
        {
          "output_type": "stream",
          "name": "stdout",
          "text": [
            "Report Klasifikasi:\n",
            "              precision    recall  f1-score   support\n",
            "\n",
            "     Politik       1.00      1.00      1.00         1\n",
            "       Sport       1.00      1.00      1.00         1\n",
            "       hukum       1.00      1.00      1.00         4\n",
            "\n",
            "    accuracy                           1.00         6\n",
            "   macro avg       1.00      1.00      1.00         6\n",
            "weighted avg       1.00      1.00      1.00         6\n",
            "\n"
          ]
        }
      ]
    },
    {
      "cell_type": "code",
      "source": [
        "def plot_confusion_matrix(cm):\n",
        "  # Membuat plot confusion matrix\n",
        "  plt.figure(figsize=(8, 6))\n",
        "  sns.heatmap(cm, annot=True, fmt='d', cmap='Blues', xticklabels=gnb_summary.classes_, yticklabels=gnb_summary.classes_)\n",
        "  plt.xlabel('Predicted')\n",
        "  plt.ylabel('True')\n",
        "  plt.title('Confusion Matrix')\n",
        "  plt.show()\n",
        "\n",
        "cm = confusion_matrix(y_test_summary, y_pred_gnb_summary)\n",
        "plot_confusion_matrix(cm)"
      ],
      "metadata": {
        "colab": {
          "base_uri": "https://localhost:8080/",
          "height": 564
        },
        "id": "kEJMNg0scYuh",
        "outputId": "77f5d262-4c3c-4c28-dd9d-7ed0edac4e66"
      },
      "execution_count": 25,
      "outputs": [
        {
          "output_type": "display_data",
          "data": {
            "text/plain": [
              "<Figure size 800x600 with 2 Axes>"
            ],
            "image/png": "[encoded data removed]"
          },
          "metadata": {}
        }
      ]
    },
    {
      "cell_type": "code",
      "source": [
        "new_data = [\"SERANG – Prajurit Grup 1 Kopassus kembali menorehkan prestasi dalam bidang Lomba Lari pada CT Arsa Charity Fun Run 2023 di BSD Tanggerang dan Kota Wisata Run 2023 di Malang. Pada even tersebut yang digelar Sabtu, 18 November 2023 prajurit Grup 1 Kopassus menorehkan 2 prestasi pada even Lari Kategori 10 K. Praka Gunawan berhasil mendatkan Juara 3 dengan waktu 33’50. Sedangakan Sertu Amat Sucipto Parapat mendapatkan Juara 4 dengan waktu 33’51. Berbeda dengan 2 Prajurit Grup 1 Kopassus lainnya yang juga mengukir prestasi dalam Lomba Lari Kota Wisata Run 2023 di Malang hari Minggu, 19 November 2023. Prajurit Grup 1 Kopassus dapat menorehkan prestasi puncak pada even Lari Kategori 10 K. Sertu Amat Sucipto Parapat mendapatkan juara 1 dengan waktu 33’33” dan Amirudin mendapatkan Juara 3 dengan waktu 35’20”. Prestasi tersebut tentunya tidak terlepas dari arahan dan program yang diberikan oleh Komandan Grup 1 Kopassus, Kolonel Inf Irfan Amir. Prestasi ini tentunya sebagai motivasi untuk terus memberikan hasil yang terbaik dalam setiap even perlombaan yang dilaksanakan.\"]\n",
        "new_data_summary, G = summarization(tokenizer(new_data[0]), k=5)\n",
        "new_data_summary"
      ],
      "metadata": {
        "colab": {
          "base_uri": "https://localhost:8080/",
          "height": 91
        },
        "id": "sa1TnuwHcjWY",
        "outputId": "566e5ab1-948d-4a00-bf90-2701408326c5"
      },
      "execution_count": 28,
      "outputs": [
        {
          "output_type": "execute_result",
          "data": {
            "text/plain": [
              "'pada even tersebut yang digelar sabtu, 18 november 2023 prajurit grup 1 kopassus menorehkan 2 prestasi pada even lari kategori 10 k. praka gunawan berhasil mendatkan juara 3 dengan waktu 33’50. berbeda dengan 2 prajurit grup 1 kopassus lainnya yang juga mengukir prestasi dalam lomba lari kota wisata run 2023 di malang hari minggu, 19 november 2023. prajurit grup 1 kopassus dapat menorehkan prestasi puncak pada even lari kategori 10 k. sertu amat sucipto parapat mendapatkan juara 1 dengan waktu 33’33” dan amirudin mendapatkan juara 3 dengan waktu 35’20”. serang – prajurit grup 1 kopassus kembali menorehkan prestasi dalam bidang lomba lari pada ct arsa charity fun run 2023 di bsd tanggerang dan kota wisata run 2023 di malang. sedangakan sertu amat sucipto parapat mendapatkan juara 4 dengan waktu 33’51. prestasi tersebut tentunya tidak terlepas dari arahan dan program yang diberikan oleh komandan grup 1 kopassus, kolonel inf irfan amir.'"
            ],
            "application/vnd.google.colaboratory.intrinsic+json": {
              "type": "string"
            }
          },
          "metadata": {},
          "execution_count": 28
        }
      ]
    },
    {
      "cell_type": "code",
      "source": [
        "tfidf_Xnew_summary = vectorizer_summary.transform([new_data_summary]).toarray()\n",
        "tfidf_Xnew_summary"
      ],
      "metadata": {
        "colab": {
          "base_uri": "https://localhost:8080/"
        },
        "id": "-xTKl_0IdBUf",
        "outputId": "1cb52fc3-f369-43e0-bc99-29ae0c43ebf8"
      },
      "execution_count": 29,
      "outputs": [
        {
          "output_type": "execute_result",
          "data": {
            "text/plain": [
              "array([[0.        , 0.        , 0.17531058, ..., 0.        , 0.        ,\n",
              "        0.        ]])"
            ]
          },
          "metadata": {},
          "execution_count": 29
        }
      ]
    },
    {
      "cell_type": "code",
      "source": [
        "pred_gnb_summary = gnb_summary.predict(tfidf_Xnew_summary)\n",
        "pred_gnb_summary[0]"
      ],
      "metadata": {
        "colab": {
          "base_uri": "https://localhost:8080/",
          "height": 36
        },
        "id": "G87IZlEFdD__",
        "outputId": "edded8fe-d513-40dc-84a4-c952b3f02d2f"
      },
      "execution_count": 30,
      "outputs": [
        {
          "output_type": "execute_result",
          "data": {
            "text/plain": [
              "'Sport'"
            ],
            "application/vnd.google.colaboratory.intrinsic+json": {
              "type": "string"
            }
          },
          "metadata": {},
          "execution_count": 30
        }
      ]
    },
    {
      "cell_type": "code",
      "source": [
        "joblib.dump(gnb_summary, 'modelNB.pkl')"
      ],
      "metadata": {
        "colab": {
          "base_uri": "https://localhost:8080/"
        },
        "id": "NJAu9k-IdHf5",
        "outputId": "f57453a0-e891-4371-c5ac-2cf6abd7fa76"
      },
      "execution_count": 31,
      "outputs": [
        {
          "output_type": "execute_result",
          "data": {
            "text/plain": [
              "['modelNB.pkl']"
            ]
          },
          "metadata": {},
          "execution_count": 31
        }
      ]
    },
    {
      "cell_type": "markdown",
      "source": [],
      "metadata": {
        "id": "_CyaoiGjZwlv"
      }
    }
  ]
}